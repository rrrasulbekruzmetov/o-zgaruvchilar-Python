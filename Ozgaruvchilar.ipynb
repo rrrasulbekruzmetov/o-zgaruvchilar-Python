{
 "cells": [
  {
   "cell_type": "markdown",
   "id": "8e184043",
   "metadata": {},
   "source": [
    "# O`zgaruvchilar\n"
   ]
  },
  {
   "cell_type": "markdown",
   "id": "f70bfce0",
   "metadata": {},
   "source": []
  },
  {
   "cell_type": "markdown",
   "id": "da91fc08",
   "metadata": {},
   "source": [
    "Bizda o`zgaruvchilar quyidagilar\n",
    "Integer butun sonlar M: 5, 25, -54, 891, -98, 7 shu kabilar\n",
    "Float bu kasr sonlar M: 10.5, 5.9, 56.7, -96.7, -89.2, 3.4 shu kabilar \n",
    "String bu yozuvlar  M: 'Men', \"choynak\", 'maktab', \"Daftar\" shu kabilar\n",
    "Boolean bu True  False  qaytaruvchi xisoblanadi M: a = 20 , a>15, True// b = -45, b > 15, False shu kabi xolatlar  "
   ]
  },
  {
   "cell_type": "markdown",
   "id": "fbb55b96",
   "metadata": {},
   "source": []
  },
  {
   "cell_type": "markdown",
   "id": "371cf1c5",
   "metadata": {},
   "source": [
    "# INTEGER"
   ]
  },
  {
   "cell_type": "code",
   "execution_count": 3,
   "id": "eac29665",
   "metadata": {},
   "outputs": [
    {
     "data": {
      "text/plain": [
       "int"
      ]
     },
     "execution_count": 3,
     "metadata": {},
     "output_type": "execute_result"
    }
   ],
   "source": [
    "a = 15\n",
    "b = 45\n",
    "c = -20\n",
    "d = 47\n",
    "type(a)\n",
    "# type(b)\n",
    "# type(c)\n",
    "# type(d)"
   ]
  },
  {
   "cell_type": "markdown",
   "id": "50268aed",
   "metadata": {},
   "source": []
  },
  {
   "cell_type": "markdown",
   "id": "83e31e96",
   "metadata": {},
   "source": [
    "# FLOAT "
   ]
  },
  {
   "cell_type": "code",
   "execution_count": 5,
   "id": "e6ee41bd",
   "metadata": {},
   "outputs": [
    {
     "data": {
      "text/plain": [
       "float"
      ]
     },
     "execution_count": 5,
     "metadata": {},
     "output_type": "execute_result"
    }
   ],
   "source": [
    "a = 5.6\n",
    "b = 7.8\n",
    "c = -56.7\n",
    "d = 8.9\n",
    "type(a)\n",
    "# type(b)\n",
    "# type(c)\n",
    "# type(d)"
   ]
  },
  {
   "cell_type": "markdown",
   "id": "5f56217a",
   "metadata": {},
   "source": [
    "# STRING "
   ]
  },
  {
   "cell_type": "markdown",
   "id": "4300d0d9",
   "metadata": {},
   "source": []
  },
  {
   "cell_type": "code",
   "execution_count": 6,
   "id": "da39da51",
   "metadata": {},
   "outputs": [
    {
     "data": {
      "text/plain": [
       "str"
      ]
     },
     "execution_count": 6,
     "metadata": {},
     "output_type": "execute_result"
    }
   ],
   "source": [
    "a = \"oyinchoq\" \n",
    "b = 'temir'\n",
    "c = \"maxsulot\"\n",
    "d ='45'\n",
    "type(a)\n",
    "# type(b)\n",
    "# type(c)\n",
    "# type(d)"
   ]
  },
  {
   "cell_type": "markdown",
   "id": "b8d20f2e",
   "metadata": {},
   "source": [
    "# BOOLEAN"
   ]
  },
  {
   "cell_type": "code",
   "execution_count": null,
   "id": "05dcb054",
   "metadata": {},
   "outputs": [
    {
     "name": "stdout",
     "output_type": "stream",
     "text": [
      "False\n",
      "False\n",
      "False\n",
      "True\n"
     ]
    }
   ],
   "source": [
    "a = 5 \n",
    "b = 47\n",
    "c = -56\n",
    "print(a>b)\n",
    "# print(c > a)\n",
    "# print(a == b)\n",
    "# print(a < b)"
   ]
  },
  {
   "cell_type": "code",
   "execution_count": null,
   "id": "f9729321",
   "metadata": {},
   "outputs": [],
   "source": []
  }
 ],
 "metadata": {
  "kernelspec": {
   "display_name": "Python 3",
   "language": "python",
   "name": "python3"
  },
  "language_info": {
   "codemirror_mode": {
    "name": "ipython",
    "version": 3
   },
   "file_extension": ".py",
   "mimetype": "text/x-python",
   "name": "python",
   "nbconvert_exporter": "python",
   "pygments_lexer": "ipython3",
   "version": "3.13.2"
  }
 },
 "nbformat": 4,
 "nbformat_minor": 5
}
